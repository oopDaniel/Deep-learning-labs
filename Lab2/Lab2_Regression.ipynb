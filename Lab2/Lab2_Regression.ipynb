{
 "cells": [
  {
   "cell_type": "code",
   "execution_count": 327,
   "metadata": {},
   "outputs": [],
   "source": [
    "import numpy as np\n",
    "\n",
    "from keras.datasets import boston_housing\n",
    "from sklearn.preprocessing import normalize\n",
    "\n",
    "%run Lab2_NN.ipynb"
   ]
  },
  {
   "cell_type": "code",
   "execution_count": 328,
   "metadata": {},
   "outputs": [],
   "source": [
    "def load_data():\n",
    "  (x_train, y_train), (x_test, y_test) = boston_housing.load_data()\n",
    "\n",
    "  # condition data to be in a format you need to use\n",
    "\n",
    "  x_train = normalize(x_train, norm='max', axis=0)\n",
    "  x_test = normalize(x_test, norm='max', axis=0)\n",
    "    \n",
    "  return (x_train, y_train), (x_test, y_test)"
   ]
  },
  {
   "cell_type": "code",
   "execution_count": 332,
   "metadata": {},
   "outputs": [],
   "source": [
    "import matplotlib.pyplot as plt\n",
    "\n",
    "%matplotlib inline \n",
    "\n",
    "def plot_loss(losses, test_loss, epochs):\n",
    "  fig, ax = plt.subplots()\n",
    "  time = np.arange(0, epochs, 1)\n",
    "  ax.plot(time, losses)\n",
    "\n",
    "  # test loss\n",
    "  y = test_loss\n",
    "  plt.axhline(y=y, color=\"orange\")\n",
    "  text = 'test loss: ' + str(np.around(y, decimals=3))\n",
    "  plt.annotate(text, xy=(2, y), xytext=(3, y+50),\n",
    "    arrowprops=dict(facecolor='black', shrink=0.05),\n",
    "  )\n",
    "\n",
    "  ax.set(xlabel='iteration', ylabel='loss',\n",
    "       title='Loss over time')\n",
    "  plt.show()"
   ]
  },
  {
   "cell_type": "code",
   "execution_count": 325,
   "metadata": {},
   "outputs": [],
   "source": [
    "def main():\n",
    "  (x_train, y_train), (x_test, y_test) = load_data()\n",
    "    \n",
    "  # linear network\n",
    "  # plot training and test loss over time in jupyter notebook\n",
    "  # plot training and test accuracy over time in jupyter notebook\n",
    "\n",
    "  shapes = [x_train.shape[1], 1]\n",
    "  outputs = [\"linear\"]\n",
    "  model = initialize_weights(shapes, outputs)\n",
    "\n",
    "  train_losses = []\n",
    "\n",
    "  # what's the alpha you should use?\n",
    "\n",
    "  alpha = 0.3\n",
    "  epochs = 300\n",
    "    \n",
    "  # Training Set\n",
    "  for i in range(epochs):\n",
    "    fwd_results = forward(x_train, model)\n",
    "    loss, dweights = backward(y_train, fwd_results, model, \"mse\")\n",
    "    update(model, dweights, alpha)\n",
    "    train_losses.append(loss)\n",
    "\n",
    "  # Test Set\n",
    "  test_results = forward(x_test, model)\n",
    "  test_loss, _ = backward(y_test, test_results, model, \"mse\")\n",
    "\n",
    "  # Plot\n",
    "  plot_loss(train_losses, test_loss, epochs)"
   ]
  },
  {
   "cell_type": "code",
   "execution_count": 333,
   "metadata": {},
   "outputs": [
    {
     "data": {
      "image/png": "[encoded data removed]",
      "text/plain": [
       "<Figure size 432x288 with 1 Axes>"
      ]
     },
     "metadata": {
      "needs_background": "light"
     },
     "output_type": "display_data"
    }
   ],
   "source": [
    "if __name__ == \"__main__\":\n",
    "  main()"
   ]
  },
  {
   "cell_type": "code",
   "execution_count": null,
   "metadata": {},
   "outputs": [],
   "source": []
  }
 ],
 "metadata": {
  "kernelspec": {
   "display_name": "Python 3",
   "language": "python",
   "name": "python3"
  },
  "language_info": {
   "codemirror_mode": {
    "name": "ipython",
    "version": 3
   },
   "file_extension": ".py",
   "mimetype": "text/x-python",
   "name": "python",
   "nbconvert_exporter": "python",
   "pygments_lexer": "ipython3",
   "version": "3.7.2"
  }
 },
 "nbformat": 4,
 "nbformat_minor": 2
}
