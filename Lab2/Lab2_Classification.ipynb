{
 "cells": [
  {
   "cell_type": "code",
   "execution_count": 273,
   "metadata": {},
   "outputs": [],
   "source": [
    "import numpy as np\n",
    "\n",
    "from sklearn import datasets\n",
    "from keras.utils import to_categorical\n",
    "from sklearn.model_selection import train_test_split\n",
    "from sklearn.preprocessing import normalize\n",
    "\n",
    "%run Lab2_NN.ipynb"
   ]
  },
  {
   "cell_type": "code",
   "execution_count": 274,
   "metadata": {},
   "outputs": [],
   "source": [
    "def load_iris():\n",
    "  iris = datasets.load_iris()\n",
    "  x = iris.data.astype(np.float32)\n",
    "  y = iris.target\n",
    "\n",
    "  y = to_categorical(y, np.max(y)+1).astype(np.float32)\n",
    "\n",
    "  # need to do conditioning on the dataset\n",
    "\n",
    "  x_train, x_test, y_train, y_test = train_test_split(x, y)\n",
    "    \n",
    "  x_train = normalize(x_train, norm='max', axis=0)\n",
    "  x_test = normalize(x_test, norm='max', axis=0)\n",
    "\n",
    "  return (x_train, y_train), (x_test, y_test)"
   ]
  },
  {
   "cell_type": "code",
   "execution_count": 284,
   "metadata": {},
   "outputs": [],
   "source": [
    "import matplotlib.pyplot as plt\n",
    "\n",
    "%matplotlib inline \n",
    "\n",
    "def plot_loss(losses, test_loss, epochs):\n",
    "  fig, ax = plt.subplots()\n",
    "  time = np.arange(0, epochs, 1)\n",
    "  ax.plot(time, losses)\n",
    "\n",
    "  # test loss\n",
    "  y = test_loss\n",
    "  plt.axhline(y=y, color=\"orange\")\n",
    "  text = 'test loss: ' + str(np.around(y, decimals=3))\n",
    "  plt.annotate(text, xy=(2, y), xytext=(3, y*1.1),\n",
    "    arrowprops=dict(facecolor='black', shrink=0.05),\n",
    "  )\n",
    "\n",
    "  ax.set(xlabel='iteration', ylabel='loss',\n",
    "       title='Loss over time')\n",
    "  plt.show()\n",
    "    \n",
    "def plot_accuracy(accuracies, test_accuracy, epochs):\n",
    "  fig, ax = plt.subplots()\n",
    "  time = np.arange(0, epochs, 1)\n",
    "  ax.plot(time, accuracies)\n",
    "\n",
    "  # test accuracy\n",
    "  y = test_accuracy\n",
    "  plt.axhline(y=y, color=\"orange\")\n",
    "  text = 'test accuracy: ' + str(np.around(y, decimals=3))\n",
    "  plt.annotate(text, xy=(2, y), xytext=(3, y*0.92),\n",
    "    arrowprops=dict(facecolor='black', shrink=0.05),\n",
    "  )\n",
    "\n",
    "  ax.set(xlabel='iteration', ylabel='accuracy',\n",
    "       title='Accuracy over time')\n",
    "  plt.show()\n"
   ]
  },
  {
   "cell_type": "code",
   "execution_count": 297,
   "metadata": {},
   "outputs": [],
   "source": [
    "def main():\n",
    "  (x_train, y_train), (x_test, y_test) = load_iris()\n",
    "\n",
    "  # example of network. try your own to get higher accuracy\n",
    "  # plot training and test loss over time in jupyter notebook\n",
    "  # plot training and test accuracy over time in jupyter notebook \n",
    "\n",
    "  outputs = [\"relu\", \"relu\", \"sigmoid\"]\n",
    "  shapes = [x_train.shape[1], 30, 10, y_train.shape[1]]\n",
    "\n",
    "  train_losses = []\n",
    "  train_accuracies = []\n",
    "    \n",
    "  # which alpha should you use?\n",
    "  alpha = 0.03\n",
    "  model = initialize_weights(shapes, outputs)\n",
    "  labels = np.argmax(y_train, axis=1)\n",
    "  epochs = 100\n",
    "\n",
    "  # Training\n",
    "  for i in range(epochs):\n",
    "    fwd_results = forward(x_train, model)\n",
    "    loss, dweights = backward(y_train, fwd_results, model, \"binary_crossentropy\")\n",
    "    update(model, dweights, alpha)\n",
    "    \n",
    "    prediction = predict(x_train, model)\n",
    "    prediction = np.argmax(prediction, axis=1)\n",
    "    \n",
    "    accuracy = np.divide(np.sum(prediction==labels), labels.shape[0])\n",
    "    accuracy = np.around(accuracy, decimals=3)\n",
    "    \n",
    "    train_accuracies.append(accuracy)\n",
    "    train_losses.append(loss)\n",
    "    \n",
    "  # Test Set\n",
    "  test_results = forward(x_test, model)\n",
    "  test_loss, _ = backward(y_test, test_results, model, \"binary_crossentropy\")\n",
    "  prediction = test_results[-1][\"y\"]\n",
    "  prediction = np.argmax(prediction, axis=1)\n",
    "    \n",
    "  test_labels = np.argmax(y_test, axis=1)\n",
    "  test_accuracy = np.divide(np.sum(prediction==test_labels), test_labels.shape[0])\n",
    "  test_accuracy = np.around(test_accuracy, decimals=3)\n",
    "\n",
    "  # Plot\n",
    "  plot_loss(train_losses, test_loss, epochs)\n",
    "  plot_accuracy(train_accuracies, test_accuracy, epochs)"
   ]
  },
  {
   "cell_type": "code",
   "execution_count": 298,
   "metadata": {},
   "outputs": [
    {
     "data": {
      "image/png": "[encoded data removed]",
      "text/plain": [
       "<Figure size 432x288 with 1 Axes>"
      ]
     },
     "metadata": {
      "needs_background": "light"
     },
     "output_type": "display_data"
    },
    {
     "data": {
      "image/png": "[encoded data removed]",
      "text/plain": [
       "<Figure size 432x288 with 1 Axes>"
      ]
     },
     "metadata": {
      "needs_background": "light"
     },
     "output_type": "display_data"
    }
   ],
   "source": [
    "if __name__ == \"__main__\":\n",
    "  main()"
   ]
  },
  {
   "cell_type": "code",
   "execution_count": null,
   "metadata": {},
   "outputs": [],
   "source": []
  }
 ],
 "metadata": {
  "kernelspec": {
   "display_name": "Python 3",
   "language": "python",
   "name": "python3"
  },
  "language_info": {
   "codemirror_mode": {
    "name": "ipython",
    "version": 3
   },
   "file_extension": ".py",
   "mimetype": "text/x-python",
   "name": "python",
   "nbconvert_exporter": "python",
   "pygments_lexer": "ipython3",
   "version": "3.7.2"
  }
 },
 "nbformat": 4,
 "nbformat_minor": 2
}
