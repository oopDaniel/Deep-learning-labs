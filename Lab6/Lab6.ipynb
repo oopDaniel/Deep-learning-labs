{
 "cells": [
  {
   "cell_type": "markdown",
   "metadata": {},
   "source": [
    "## Section 1: QKeras"
   ]
  },
  {
   "cell_type": "code",
   "execution_count": 16,
   "metadata": {},
   "outputs": [],
   "source": [
    "# Switching for colab\n",
    "%tensorflow_version 1.x"
   ]
  },
  {
   "cell_type": "code",
   "execution_count": 17,
   "metadata": {},
   "outputs": [],
   "source": [
    "from tensorflow.keras.layers import Input, Dense, Activation\n",
    "from tensorflow.keras.models import Model\n",
    "from tensorflow.keras.datasets import mnist\n",
    "from tensorflow.keras.utils import to_categorical\n",
    "from tensorflow.keras.optimizers import Adam, Adamax\n",
    "\n",
    "from qkeras import QDense, QActivation, binary, quantized_bits\n",
    "\n",
    "import os\n",
    "import matplotlib.pyplot as plt\n",
    "import numpy as np"
   ]
  },
  {
   "cell_type": "code",
   "execution_count": 5,
   "metadata": {},
   "outputs": [],
   "source": [
    "def load_data():\n",
    "    (x_train, y_train), (x_test, y_test) = mnist.load_data()\n",
    "\n",
    "    x_train = x_train / 255.0\n",
    "    x_test = x_test / 255.0\n",
    "\n",
    "    B_train = x_train.shape[0]\n",
    "    B_test = x_test.shape[0]\n",
    "\n",
    "    x_train = x_train.reshape(x_train.shape + (1,))\n",
    "    x_test = x_test.reshape(x_test.shape + (1,))\n",
    "\n",
    "    y_train = to_categorical(y_train, 10)\n",
    "    y_test = to_categorical(y_test, 10)\n",
    "\n",
    "    y_train = y_train + np.random.uniform(0.0, 0.02, y_train.shape)\n",
    "    y_train = y_train / np.sum(y_train, axis=1, keepdims=True)\n",
    "    \n",
    "    x_train = x_train.reshape(x_train.shape[0], -1)\n",
    "    x_test = x_test.reshape(x_test.shape[0], -1)\n",
    "    \n",
    "    return x_train, y_train, x_test, y_test"
   ]
  },
  {
   "cell_type": "code",
   "execution_count": 6,
   "metadata": {},
   "outputs": [],
   "source": [
    "def get_model(verbose=True):\n",
    "    x = x_i = Input((784,), name=\"input\")\n",
    "    x = Dense(300, name=\"d1\")(x)\n",
    "    x = Activation(\"relu\", name=\"relu1\")(x)\n",
    "    x = Dense(100, name=\"d2\")(x)\n",
    "    x = Activation(\"relu\", name=\"relu2\")(x)\n",
    "    x = Dense(10, name=\"d3\")(x)\n",
    "    x = Activation(\"softmax\", name=\"softmax\")(x)\n",
    "    \n",
    "    model = Model(inputs=x_i, outputs=x)\n",
    "\n",
    "    if verbose:\n",
    "        model.summary();\n",
    "    \n",
    "    return model"
   ]
  },
  {
   "cell_type": "code",
   "execution_count": 8,
   "metadata": {},
   "outputs": [],
   "source": [
    "def get_model_q(alphas, verbose=True):\n",
    "    x = x_i = Input((784,), name=\"input\")\n",
    "    x = QDense(300, name=\"d1\",\n",
    "               kernel_quantizer=binary(alpha=alphas.pop(0)),\n",
    "               bias_quantizer=quantized_bits(4,2,1))(x)\n",
    "    x = QActivation(\"binary()\", name=\"act1\")(x)\n",
    "    x = QDense(100, name=\"d2\",\n",
    "               kernel_quantizer=binary(alpha=alphas.pop(0)),\n",
    "               bias_quantizer=quantized_bits(4,2,1))(x)\n",
    "    x = QActivation(\"binary()\", name=\"act2\")(x)\n",
    "    x = QDense(10, name=\"d3\",\n",
    "               kernel_quantizer=binary(alpha=alphas.pop(0)),\n",
    "               bias_quantizer=quantized_bits(4,2,1))(x)\n",
    "    x = Activation(\"softmax\", name=\"softmax\")(x)\n",
    "    \n",
    "    model = Model(inputs=x_i, outputs=x)\n",
    "\n",
    "    if verbose:\n",
    "        model.summary();\n",
    "    \n",
    "    return model"
   ]
  },
  {
   "cell_type": "code",
   "execution_count": 9,
   "metadata": {},
   "outputs": [],
   "source": [
    "def train(data, verbose=True):\n",
    "    x_train, y_train, x_test, y_test = data\n",
    "    weight_file_name = \"elen521-lab6.hdf5\"\n",
    "    model = get_model(verbose=verbose)\n",
    "    optimizer = Adam(0.01)\n",
    "\n",
    "    model.compile(loss=\"categorical_crossentropy\", optimizer=optimizer, metrics=[\"acc\"])\n",
    "    \n",
    "    if os.path.exists(weight_file_name):\n",
    "        model.load_weights(weight_file_name)\n",
    "    else:\n",
    "        history = model.fit(\n",
    "            x_train, y_train,\n",
    "            batch_size=64,\n",
    "            epochs=5,\n",
    "            validation_split=0.05,\n",
    "            verbose=True,\n",
    "            shuffle=True)\n",
    "        model.save_weights(weight_file_name)\n",
    "    \n",
    "    eval_res = model.evaluate(x_test, y_test)\n",
    "    if verbose:\n",
    "        print(eval_res)\n",
    "    \n",
    "    return eval_res, model"
   ]
  },
  {
   "cell_type": "code",
   "execution_count": 10,
   "metadata": {},
   "outputs": [],
   "source": [
    "def get_alpha(model):\n",
    "    layers_with_weights = [\"d1\", \"d2\", \"d3\"]\n",
    "    alphas = []\n",
    "\n",
    "    for layer in model.layers:\n",
    "        if layer.name in layers_with_weights:\n",
    "            weight_and_bias = layer.get_weights()\n",
    "            weight = weight_and_bias[0]\n",
    "            alphas.append(np.mean(np.abs(weight)))\n",
    "\n",
    "    return alphas"
   ]
  },
  {
   "cell_type": "code",
   "execution_count": 11,
   "metadata": {},
   "outputs": [],
   "source": [
    "def train_q(data, alphas, verbose=True):\n",
    "    x_train, y_train, x_test, y_test = data\n",
    "    model = get_model_q(alphas, verbose=verbose)\n",
    "    optimizer = Adamax(0.02, beta_1=0.9, beta_2=0.999)\n",
    "\n",
    "    model.compile(loss=\"categorical_crossentropy\", optimizer=optimizer, metrics=[\"acc\"])\n",
    "\n",
    "    history = model.fit(\n",
    "        x_train, y_train,\n",
    "        batch_size=64,\n",
    "        epochs=5,\n",
    "        validation_split=0.05,\n",
    "        verbose=True,\n",
    "        shuffle=True)\n",
    "    \n",
    "    eval_res = model.evaluate(x_test, y_test)\n",
    "    if verbose:\n",
    "        print(eval_res)\n",
    "    \n",
    "    return eval_res, model\n"
   ]
  },
  {
   "cell_type": "code",
   "execution_count": 12,
   "metadata": {},
   "outputs": [],
   "source": [
    "def main():\n",
    "    data = load_data()\n",
    "    eval_res, model = train(data)\n",
    "    \n",
    "    alphas = get_alpha(model)\n",
    "    eval_res_q = train_q(data, alphas)"
   ]
  },
  {
   "cell_type": "code",
   "execution_count": 13,
   "metadata": {},
   "outputs": [
    {
     "name": "stdout",
     "output_type": "stream",
     "text": [
      "WARNING:tensorflow:From /Users/daniel/.pyenv/versions/anaconda3-5.3.1/lib/python3.7/site-packages/tensorflow_core/python/ops/resource_variable_ops.py:1630: calling BaseResourceVariable.__init__ (from tensorflow.python.ops.resource_variable_ops) with constraint is deprecated and will be removed in a future version.\n",
      "Instructions for updating:\n",
      "If using Keras pass *_constraint arguments to layers.\n",
      "Model: \"model\"\n",
      "_________________________________________________________________\n",
      "Layer (type)                 Output Shape              Param #   \n",
      "=================================================================\n",
      "input (InputLayer)           [(None, 784)]             0         \n",
      "_________________________________________________________________\n",
      "d1 (Dense)                   (None, 300)               235500    \n",
      "_________________________________________________________________\n",
      "relu1 (Activation)           (None, 300)               0         \n",
      "_________________________________________________________________\n",
      "d2 (Dense)                   (None, 100)               30100     \n",
      "_________________________________________________________________\n",
      "relu2 (Activation)           (None, 100)               0         \n",
      "_________________________________________________________________\n",
      "d3 (Dense)                   (None, 10)                1010      \n",
      "_________________________________________________________________\n",
      "softmax (Activation)         (None, 10)                0         \n",
      "=================================================================\n",
      "Total params: 266,610\n",
      "Trainable params: 266,610\n",
      "Non-trainable params: 0\n",
      "_________________________________________________________________\n",
      "10000/10000 [==============================] - 1s 60us/sample - loss: 0.1910 - acc: 0.9695\n",
      "[0.1910047959804535, 0.9695]\n",
      "WARNING:tensorflow:From /Users/daniel/.pyenv/versions/anaconda3-5.3.1/lib/python3.7/site-packages/tensorflow_core/python/util/deprecation.py:507: calling VarianceScaling.__init__ (from tensorflow.python.ops.init_ops) with distribution=normal is deprecated and will be removed in a future version.\n",
      "Instructions for updating:\n",
      "`normal` is a deprecated alias for `truncated_normal`\n",
      "Model: \"model_1\"\n",
      "_________________________________________________________________\n",
      "Layer (type)                 Output Shape              Param #   \n",
      "=================================================================\n",
      "input (InputLayer)           [(None, 784)]             0         \n",
      "_________________________________________________________________\n",
      "d1 (QDense)                  (None, 300)               235500    \n",
      "_________________________________________________________________\n",
      "act1 (QActivation)           (None, 300)               0         \n",
      "_________________________________________________________________\n",
      "d2 (QDense)                  (None, 100)               30100     \n",
      "_________________________________________________________________\n",
      "act2 (QActivation)           (None, 100)               0         \n",
      "_________________________________________________________________\n",
      "d3 (QDense)                  (None, 10)                1010      \n",
      "_________________________________________________________________\n",
      "softmax (Activation)         (None, 10)                0         \n",
      "=================================================================\n",
      "Total params: 266,610\n",
      "Trainable params: 266,610\n",
      "Non-trainable params: 0\n",
      "_________________________________________________________________\n",
      "Train on 57000 samples, validate on 3000 samples\n",
      "Epoch 1/5\n",
      "57000/57000 [==============================] - 6s 98us/sample - loss: 0.8770 - acc: 0.8565 - val_loss: 0.7438 - val_acc: 0.9123\n",
      "Epoch 2/5\n",
      "57000/57000 [==============================] - 5s 91us/sample - loss: 0.8293 - acc: 0.8746 - val_loss: 0.7510 - val_acc: 0.9193\n",
      "Epoch 3/5\n",
      "57000/57000 [==============================] - 5s 82us/sample - loss: 0.8149 - acc: 0.8812 - val_loss: 0.7287 - val_acc: 0.9230\n",
      "Epoch 4/5\n",
      "57000/57000 [==============================] - 5s 82us/sample - loss: 0.8069 - acc: 0.8849 - val_loss: 0.7415 - val_acc: 0.9153\n",
      "Epoch 5/5\n",
      "57000/57000 [==============================] - 5s 88us/sample - loss: 0.8038 - acc: 0.8861 - val_loss: 0.7238 - val_acc: 0.9193\n",
      "10000/10000 [==============================] - 1s 85us/sample - loss: 0.4090 - acc: 0.8936\n",
      "[0.40902137439250946, 0.8936]\n"
     ]
    }
   ],
   "source": [
    "main()"
   ]
  },
  {
   "cell_type": "markdown",
   "metadata": {},
   "source": [
    "## Section 2 + 3: Neural Style Transfer"
   ]
  },
  {
   "cell_type": "code",
   "execution_count": 16,
   "metadata": {},
   "outputs": [],
   "source": [
    "# Switching for colab\n",
    "%tensorflow_version 2.x"
   ]
  },
  {
   "cell_type": "code",
   "execution_count": null,
   "metadata": {},
   "outputs": [],
   "source": [
    "from tensorflow.keras.layers import Input, Dense, Activation\n",
    "from tensorflow.keras.models import Model\n",
    "from tensorflow.keras.datasets import mnist\n",
    "from tensorflow.keras.utils import to_categorical\n",
    "from tensorflow.keras.optimizers import Adam, Adamax\n",
    "\n",
    "import os\n",
    "import matplotlib.pyplot as plt\n",
    "import numpy as np"
   ]
  }
 ],
 "metadata": {
  "kernelspec": {
   "display_name": "Python 3",
   "language": "python",
   "name": "python3"
  },
  "language_info": {
   "codemirror_mode": {
    "name": "ipython",
    "version": 3
   },
   "file_extension": ".py",
   "mimetype": "text/x-python",
   "name": "python",
   "nbconvert_exporter": "python",
   "pygments_lexer": "ipython3",
   "version": "3.7.6"
  }
 },
 "nbformat": 4,
 "nbformat_minor": 2
}
