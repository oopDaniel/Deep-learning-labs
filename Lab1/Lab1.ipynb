{
 "cells": [
  {
   "cell_type": "code",
   "execution_count": 61,
   "metadata": {},
   "outputs": [],
   "source": [
    "import numpy as np\n",
    "\n",
    "x = np.array([\n",
    "  [-2.0, 1.0, 2.0, 3.0],\n",
    "  [-20.0, 10.0, 20.0, 30.0],\n",
    "  [-2000.0, 1000.0, 2000.0, 3000.0]])"
   ]
  },
  {
   "cell_type": "code",
   "execution_count": 62,
   "metadata": {},
   "outputs": [
    {
     "data": {
      "text/plain": [
       "array([[0.e+00, 1.e+00, 2.e+00, 3.e+00],\n",
       "       [0.e+00, 1.e+01, 2.e+01, 3.e+01],\n",
       "       [0.e+00, 1.e+03, 2.e+03, 3.e+03]])"
      ]
     },
     "execution_count": 62,
     "metadata": {},
     "output_type": "execute_result"
    }
   ],
   "source": [
    "# Implement relu function\n",
    "\n",
    "def relu(x):\n",
    "    return np.maximum(0,x)\n",
    "\n",
    "y = relu(x)\n",
    "y"
   ]
  },
  {
   "cell_type": "code",
   "execution_count": 63,
   "metadata": {},
   "outputs": [
    {
     "data": {
      "text/plain": [
       "array([[0., 1., 2., 3.],\n",
       "       [0., 6., 6., 6.],\n",
       "       [0., 6., 6., 6.]])"
      ]
     },
     "execution_count": 63,
     "metadata": {},
     "output_type": "execute_result"
    }
   ],
   "source": [
    "# Implement relu6 function\n",
    "\n",
    "def relu6(x):\n",
    "    return np.minimum(6, relu(x))\n",
    "\n",
    "y = relu6(x)\n",
    "y"
   ]
  },
  {
   "cell_type": "code",
   "execution_count": 64,
   "metadata": {},
   "outputs": [
    {
     "data": {
      "text/plain": [
       "array([[1.19202922e-01, 7.31058579e-01, 8.80797078e-01, 9.52574127e-01],\n",
       "       [2.06115362e-09, 9.99954602e-01, 9.99999998e-01, 1.00000000e+00],\n",
       "       [0.00000000e+00, 1.00000000e+00, 1.00000000e+00, 1.00000000e+00]])"
      ]
     },
     "execution_count": 64,
     "metadata": {},
     "output_type": "execute_result"
    }
   ],
   "source": [
    "# Implement sigmoid function\n",
    "\n",
    "def sigmoid(x):\n",
    "    pos_mask = (x >= 0)\n",
    "    neg_mask = (x < 0)\n",
    "    z = np.zeros_like(x)\n",
    "    z[pos_mask] = np.exp(-x[pos_mask])\n",
    "    z[neg_mask] = np.exp(x[neg_mask])\n",
    "    top = np.ones_like(x)\n",
    "    top[neg_mask] = z[neg_mask]\n",
    "    return top / (1 + z)\n",
    "\n",
    "y = sigmoid(x)\n",
    "y"
   ]
  },
  {
   "cell_type": "code",
   "execution_count": 65,
   "metadata": {},
   "outputs": [
    {
     "data": {
      "text/plain": [
       "array([[-0.96402758,  0.76159416,  0.96402758,  0.99505475],\n",
       "       [-1.        ,  1.        ,  1.        ,  1.        ],\n",
       "       [ 0.        ,  0.        ,  0.        ,  0.        ]])"
      ]
     },
     "execution_count": 65,
     "metadata": {},
     "output_type": "execute_result"
    }
   ],
   "source": [
    "# Implement tanh function\n",
    "\n",
    "def tanh(x):\n",
    "    np.seterr(over='ignore')\n",
    "    exp_positive = np.exp(x)\n",
    "    exp_negative = np.exp(-x)\n",
    "    A = (exp_positive - exp_negative)\n",
    "    B = (exp_positive + exp_negative)\n",
    "    return np.divide(A, B, where=(A != np.inf)&(B != np.inf))\n",
    "\n",
    "y = tanh(x)\n",
    "y"
   ]
  },
  {
   "cell_type": "code",
   "execution_count": 66,
   "metadata": {},
   "outputs": [
    {
     "data": {
      "text/plain": [
       "array([[9.99999985e-01, 0.00000000e+00, 0.00000000e+00, 0.00000000e+00],\n",
       "       [1.52299795e-08, 0.00000000e+00, 0.00000000e+00, 0.00000000e+00],\n",
       "       [0.00000000e+00, 1.00000000e+00, 1.00000000e+00, 1.00000000e+00]])"
      ]
     },
     "execution_count": 66,
     "metadata": {},
     "output_type": "execute_result"
    }
   ],
   "source": [
    "# Implement softmax function\n",
    "\n",
    "def softmax(x):\n",
    "    axis = next(j[0] for j in enumerate(x.shape) if j[1] > 1)\n",
    "    x = x - np.expand_dims(np.max(x, axis = axis), axis)\n",
    "    e = np.exp(x)\n",
    "    return e / e.sum(axis=0)\n",
    "\n",
    "y = softmax(x)\n",
    "y"
   ]
  },
  {
   "cell_type": "code",
   "execution_count": 67,
   "metadata": {},
   "outputs": [
    {
     "data": {
      "image/png": "[encoded data removed]",
      "text/plain": [
       "<Figure size 432x288 with 4 Axes>"
      ]
     },
     "metadata": {
      "needs_background": "light"
     },
     "output_type": "display_data"
    }
   ],
   "source": [
    "# load iris dataset as panda dataframe and display it in a jupyter notebook\n",
    "from sklearn import datasets\n",
    "import matplotlib.pyplot as plt\n",
    "\n",
    "%matplotlib inline \n",
    "\n",
    "# plot the histogram of each one of the input variables \n",
    "\n",
    "def load_iris():\n",
    "    iris = datasets.load_iris()\n",
    "    \n",
    "    fig, axes = plt.subplots(nrows= 2, ncols=2)\n",
    "    plt.subplots_adjust(hspace=0.5, bottom=1, top=2)\n",
    "\n",
    "    colors= ['blue', 'red', 'green']\n",
    "    \n",
    "    for i, ax in enumerate(axes.flat):\n",
    "        for label, color in zip(range(len(iris.target_names)), colors):\n",
    "            ax.hist(iris.data[iris.target==label, i],\n",
    "                    label=iris.target_names[label], color=color)\n",
    "            ax.set_xlabel(iris.feature_names[i])  \n",
    "            ax.legend(loc='upper right')\n",
    "\n",
    "    plt.show()\n",
    "\n",
    "load_iris()"
   ]
  },
  {
   "cell_type": "code",
   "execution_count": 69,
   "metadata": {},
   "outputs": [
    {
     "data": {
      "image/png": "[encoded data removed]",
      "text/plain": [
       "<Figure size 432x288 with 9 Axes>"
      ]
     },
     "metadata": {
      "needs_background": "light"
     },
     "output_type": "display_data"
    }
   ],
   "source": [
    "from keras.datasets import mnist\n",
    "\n",
    "# load mnist dataset and display in the jupyter notebook in a grid 3x3 samples of the 10 digits\n",
    "\n",
    "def load_mnist():\n",
    "    (x_train, y_train), (x_test, y_test) = mnist.load_data()\n",
    "    images_9 = x_train[:10] # Take the first 9 images\n",
    "    \n",
    "    fig, axes = plt.subplots(nrows= 3, ncols=3)\n",
    "\n",
    "    for i, ax in enumerate(axes.flat):\n",
    "        pixels = np.array(images_9[i], dtype='float').reshape((28, 28))\n",
    "        ax.imshow(pixels, cmap='gray')\n",
    "        ax.axis('off')\n",
    "\n",
    "    plt.show()\n",
    "\n",
    "load_mnist()"
   ]
  },
  {
   "cell_type": "code",
   "execution_count": null,
   "metadata": {},
   "outputs": [],
   "source": []
  }
 ],
 "metadata": {
  "kernelspec": {
   "display_name": "Python 3",
   "language": "python",
   "name": "python3"
  },
  "language_info": {
   "codemirror_mode": {
    "name": "ipython",
    "version": 3
   },
   "file_extension": ".py",
   "mimetype": "text/x-python",
   "name": "python",
   "nbconvert_exporter": "python",
   "pygments_lexer": "ipython3",
   "version": "3.7.2"
  }
 },
 "nbformat": 4,
 "nbformat_minor": 2
}
