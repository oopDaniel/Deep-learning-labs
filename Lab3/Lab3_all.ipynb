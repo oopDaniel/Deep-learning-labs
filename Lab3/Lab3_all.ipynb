{
 "cells": [
  {
   "cell_type": "markdown",
   "metadata": {},
   "source": [
    "# Section 1 - $f(\\mathbf{x}) = \\mathbf{Ax} - \\mathbf{b}$"
   ]
  },
  {
   "cell_type": "code",
   "execution_count": 74,
   "metadata": {},
   "outputs": [],
   "source": [
    "import numpy as np\n",
    "import matplotlib.pyplot as plt\n",
    "\n",
    "A = np.array([[2,1,3],[2,6,8],[6,8,18]]).astype(np.float32) # 3 x 3\n",
    "b = np.array([[1],[3],[5]]).astype(np.float32) # 3 x 1\n",
    "\n",
    "x = np.random.uniform(-1.0,1.0,size=(3,1)) # 3 x 1\n",
    "\n",
    "# Solution\n",
    "y = np.dot(np.linalg.inv(A), b)\n",
    "\n",
    "def F(x):\n",
    "  return np.dot(A,x) - b\n",
    "\n",
    "# definition of loss function (MSE of F(x))\n",
    "def L(x):\n",
    "  delta = F(x) - y\n",
    "  return (np.dot(delta.T, delta) / (2 * y.shape[0])).flatten().item()\n",
    "\n",
    "# definition of gradient\n",
    "def g(x):\n",
    "  return np.dot(A.T, F(x))"
   ]
  },
  {
   "cell_type": "code",
   "execution_count": 75,
   "metadata": {},
   "outputs": [],
   "source": [
    "EPSILON = 1e-4\n",
    "MAX_ITERATIONS = 5000"
   ]
  },
  {
   "cell_type": "code",
   "execution_count": null,
   "metadata": {},
   "outputs": [],
   "source": [
    "def GD(x, alpha, verbose=False):\n",
    "  \"\"\"Implementation of gradient descent loop.\"\"\"\n",
    "  i = 0\n",
    "  history = []\n",
    "  while True:\n",
    "    x = x - alpha * g(x)\n",
    "    loss = L(x)\n",
    "    history.append(loss)\n",
    "    if verbose:\n",
    "      print(i, loss, x.flatten())\n",
    "    i += 1\n",
    "    if loss < EPSILON or i == MAX_ITERATIONS:\n",
    "      break\n",
    "\n",
    "  return x, history"
   ]
  },
  {
   "cell_type": "code",
   "execution_count": null,
   "metadata": {},
   "outputs": [],
   "source": [
    "def Momentum(x, alpha, beta=0.9, verbose=False):\n",
    "  i = 0\n",
    "  history = []\n",
    "  prev_vT = np.zeros_like(x)\n",
    "  while True:\n",
    "    vT = beta * prev_vT + (1 - beta) * g(x)\n",
    "    x = x - alpha * vT\n",
    "    loss = L(x)\n",
    "    history.append(loss)\n",
    "    if verbose:\n",
    "      print(i, loss, x.flatten())\n",
    "    i += 1\n",
    "    if loss < EPSILON or i == MAX_ITERATIONS:\n",
    "      break\n",
    "    prev_vT = vT\n",
    "\n",
    "  return x, history"
   ]
  },
  {
   "cell_type": "code",
   "execution_count": null,
   "metadata": {},
   "outputs": [],
   "source": [
    "def Adadelta(x, beta=0.95, verbose=False):\n",
    "  epsilon = 1e-6\n",
    "  expected_g_square = np.zeros_like(x)\n",
    "  expected_delta_theta_square = np.zeros_like(x)\n",
    "  rms_theta = 0\n",
    "  i = 0\n",
    "  history = []\n",
    "\n",
    "  while True:\n",
    "    gradient = g(x)\n",
    "    expected_g_square = (beta * expected_g_square) + (1 - beta) *  np.square(gradient)\n",
    "\n",
    "    delta_theta = -(np.sqrt(expected_delta_theta_square + epsilon) / \\\n",
    "                   np.sqrt(expected_g_square + epsilon)) * gradient\n",
    "    x += delta_theta\n",
    "\n",
    "    loss = L(x)\n",
    "    history.append(loss)\n",
    "    if verbose:\n",
    "      print(i, loss, x.flatten())\n",
    "    i += 1\n",
    "    if loss < EPSILON or i == MAX_ITERATIONS:\n",
    "      break\n",
    "    \n",
    "    expected_delta_theta_square = (beta * expected_delta_theta_square) + \\\n",
    "        (1 - beta) * np.square(delta_theta)\n",
    "\n",
    "  return x, history"
   ]
  },
  {
   "cell_type": "code",
   "execution_count": null,
   "metadata": {},
   "outputs": [],
   "source": [
    "def Adam(x, alpha, beta1=0.9, beta2=0.999, verbose=False):\n",
    "  epsilon = 1e-8\n",
    "  m_t = np.zeros_like(x)\n",
    "  v_t = np.zeros_like(x)\n",
    "  i = 0\n",
    "  history = []\n",
    "\n",
    "  while True:\n",
    "    gradient = g(x)\n",
    "    m_t = beta1 * m_t + (1 - beta1) * gradient\n",
    "    v_t = beta2 * v_t + (1 - beta2) * np.square(gradient)\n",
    "\n",
    "    m_t_hat = m_t / (1 - beta1)\n",
    "    v_t_hat = v_t / (1 - beta2)\n",
    "    \n",
    "    x = x - alpha * m_t_hat / (np.sqrt(v_t_hat) + epsilon)\n",
    "\n",
    "    loss = L(x)\n",
    "    history.append(loss)\n",
    "    if verbose:\n",
    "      print(i, loss, x.flatten())\n",
    "    i += 1\n",
    "    if loss < EPSILON or i == MAX_ITERATIONS:\n",
    "      break\n",
    "\n",
    "  return x, history"
   ]
  },
  {
   "cell_type": "code",
   "execution_count": 87,
   "metadata": {},
   "outputs": [],
   "source": [
    "def AdamWithWarmup(x, alpha, beta1, beta2, verbose=False):\n",
    "  pass"
   ]
  },
  {
   "cell_type": "code",
   "execution_count": 90,
   "metadata": {},
   "outputs": [
    {
     "data": {
      "image/png": "[encoded data removed]",
      "text/plain": [
       "<Figure size 432x288 with 1 Axes>"
      ]
     },
     "metadata": {
      "needs_background": "light"
     },
     "output_type": "display_data"
    }
   ],
   "source": [
    "x, history = GD(x, alpha=0.002, verbose=False)\n",
    "plt.plot(history)\n",
    "plt.show()"
   ]
  },
  {
   "cell_type": "code",
   "execution_count": 98,
   "metadata": {},
   "outputs": [
    {
     "data": {
      "image/png": "[encoded data removed]",
      "text/plain": [
       "<Figure size 432x288 with 1 Axes>"
      ]
     },
     "metadata": {
      "needs_background": "light"
     },
     "output_type": "display_data"
    }
   ],
   "source": [
    "x, history = Momentum(x, alpha=0.002, beta=0.9, verbose=False)\n",
    "plt.plot(history)\n",
    "plt.show()"
   ]
  },
  {
   "cell_type": "code",
   "execution_count": 99,
   "metadata": {},
   "outputs": [
    {
     "data": {
      "image/png": "[encoded data removed]",
      "text/plain": [
       "<Figure size 432x288 with 1 Axes>"
      ]
     },
     "metadata": {
      "needs_background": "light"
     },
     "output_type": "display_data"
    }
   ],
   "source": [
    "x, history = Adadelta(x, verbose=False)\n",
    "plt.plot(history)\n",
    "plt.show()"
   ]
  },
  {
   "cell_type": "code",
   "execution_count": 100,
   "metadata": {},
   "outputs": [
    {
     "data": {
      "image/png": "[encoded data removed]",
      "text/plain": [
       "<Figure size 432x288 with 1 Axes>"
      ]
     },
     "metadata": {
      "needs_background": "light"
     },
     "output_type": "display_data"
    }
   ],
   "source": [
    "x, history = Adam(x, alpha=0.001, verbose=False)\n",
    "plt.plot(history)\n",
    "plt.show()"
   ]
  },
  {
   "cell_type": "code",
   "execution_count": null,
   "metadata": {},
   "outputs": [],
   "source": [
    "x, history = AdamWithWarmup(x, alpha=0.001, verbose=False)\n",
    "plt.plot(history)\n",
    "plt.show()"
   ]
  },
  {
   "cell_type": "markdown",
   "metadata": {},
   "source": [
    "# Section 2"
   ]
  },
  {
   "cell_type": "code",
   "execution_count": null,
   "metadata": {},
   "outputs": [],
   "source": [
    "import numpy as np\n",
    "import matplotlib.pyplot as plt\n",
    "\n",
    "x = np.random.uniform(-1.0,1.0,size=(2,1))\n",
    "\n",
    "def F(x):\n",
    "  return np.power(1-x[0],2) + 100.0*np.power(x[1] - np.power(x[0],2),2)\n",
    "\n",
    "\n",
    "# definition of loss function (MSE of F(x))\n",
    "def L(x):\n",
    "  return F(x)\n",
    "\n",
    "\n",
    "# definition of gradient\n",
    "def g(x):\n",
    "  return np.array([\n",
    "    -(1-x[0]) - 100.0*4*x[0]*(x[1] - np.power(x[0],2)), # \"-(1-x[0])\" should be \"-2(1-x[0])\"?\n",
    "    100.0*2*(x[1] - np.power(x[0],2))\n",
    "  ])\n",
    "\n",
    "\n",
    "def GD(x, alpha, verbose=False):\n",
    "  \"\"\"Implementation of gradient descent loop.\"\"\"\n",
    "  i = 0\n",
    "  history = []\n",
    "  while True:\n",
    "    x = x - alpha * g(x)\n",
    "    loss = L(x)\n",
    "    history.append(loss)\n",
    "    if verbose:\n",
    "      print(i, loss, x.flatten())\n",
    "    i += 1\n",
    "    if loss < 1e-7 or i == 50000:\n",
    "      break\n",
    "\n",
    "  return x, history\n",
    "\n",
    "# plot loss over time until it converges\n",
    "\n",
    "def Momentum(x, alpha, beta, verbose=False):\n",
    "  pass\n",
    "\n",
    "def Adadelta(x, beta, verbose=False):\n",
    "  pass\n",
    "\n",
    "def Adam(x, alpha, beta1, beta2, verbose=False):\n",
    "  pass\n",
    "\n",
    "def AdamWithWarmup(x, alpha, beta1, beta2, verbose=False):\n",
    "  pass\n",
    "\n",
    "x, history = GD(x, 0.002, True)\n",
    "plt.plot(history)\n",
    "plt.show()\n"
   ]
  },
  {
   "cell_type": "markdown",
   "metadata": {},
   "source": [
    "# Section 3"
   ]
  },
  {
   "cell_type": "code",
   "execution_count": null,
   "metadata": {},
   "outputs": [],
   "source": [
    "import numpy as np\n",
    "\n",
    "from keras.datasets import mnist\n",
    "from keras.utils import to_categorical\n",
    "\n",
    "(x_train, y_train), (x_test, y_test) = mnist.load_data()\n",
    "\n",
    "x_train = x_train.reshape(x_train.shape[0], 784).astype(np.float32)\n",
    "x_test = x_test.reshape(x_test.shape[0], 784).astype(np.float32)\n",
    "\n",
    "y_train = to_categorical(y_train, 10).astype(np.float32)\n",
    "y_test = to_categorical(y_test, 10).astype(np.float32)\n",
    "\n",
    "print(x_train.shape, y_train.shape)\n",
    "\n",
    "# create a network using the network you created before (with sigmoid as output layer)\n",
    "# and train your network here using SGD, Momentum, Adadelta, Adam and\n",
    "# AdamWithWarmup\n",
    "# \n",
    "# Plot accuracy and loss as a function of the number of iterations for each\n",
    "# optimization function above.\n"
   ]
  },
  {
   "cell_type": "code",
   "execution_count": 12,
   "metadata": {},
   "outputs": [
    {
     "data": {
      "text/plain": [
       "array([ 2.,  6., 18.], dtype=float32)"
      ]
     },
     "execution_count": 12,
     "metadata": {},
     "output_type": "execute_result"
    }
   ],
   "source": [
    "np.diag(A)"
   ]
  },
  {
   "cell_type": "code",
   "execution_count": null,
   "metadata": {},
   "outputs": [],
   "source": []
  }
 ],
 "metadata": {
  "kernelspec": {
   "display_name": "Python 3",
   "language": "python",
   "name": "python3"
  },
  "language_info": {
   "codemirror_mode": {
    "name": "ipython",
    "version": 3
   },
   "file_extension": ".py",
   "mimetype": "text/x-python",
   "name": "python",
   "nbconvert_exporter": "python",
   "pygments_lexer": "ipython3",
   "version": "3.7.2"
  }
 },
 "nbformat": 4,
 "nbformat_minor": 2
}
